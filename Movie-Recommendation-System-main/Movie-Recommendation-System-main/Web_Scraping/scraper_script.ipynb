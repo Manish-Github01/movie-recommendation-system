{
 "cells": [
  {
   "cell_type": "code",
   "execution_count": 1,
   "id": "46c39599",
   "metadata": {
    "execution": {
     "iopub.execute_input": "2022-01-12T12:12:52.594288Z",
     "iopub.status.busy": "2022-01-12T12:12:52.592366Z",
     "iopub.status.idle": "2022-01-12T12:12:52.927164Z",
     "shell.execute_reply": "2022-01-12T12:12:52.925828Z",
     "shell.execute_reply.started": "2022-01-12T12:11:20.837950Z"
    },
    "papermill": {
     "duration": 0.352006,
     "end_time": "2022-01-12T12:12:52.927341",
     "exception": false,
     "start_time": "2022-01-12T12:12:52.575335",
     "status": "completed"
    },
    "tags": []
   },
   "outputs": [],
   "source": [
    "from bs4 import BeautifulSoup as soup\n",
    "import requests\n",
    "import re\n",
    "import pandas as pd\n",
    "import numpy as np\n",
    "import time, os"
   ]
  },
  {
   "cell_type": "markdown",
   "id": "43005a90",
   "metadata": {
    "papermill": {
     "duration": 0.009652,
     "end_time": "2022-01-12T12:12:52.948849",
     "exception": false,
     "start_time": "2022-01-12T12:12:52.939197",
     "status": "completed"
    },
    "tags": []
   },
   "source": [
    "![](https://miro.medium.com/max/1400/1*1QcqrOoDE1rKa0NTp1iEtw.png)\n",
    "\n",
    "<a href = \"https://github.com/Ankitkalauni/Movie-Recommendation-System\"><center>IMDB Website Web Scraping for College Project</center></a>"
   ]
  },
  {
   "cell_type": "code",
   "execution_count": 2,
   "id": "2f943074",
   "metadata": {
    "execution": {
     "iopub.execute_input": "2022-01-12T12:12:52.975610Z",
     "iopub.status.busy": "2022-01-12T12:12:52.974786Z",
     "iopub.status.idle": "2022-01-12T12:12:52.977563Z",
     "shell.execute_reply": "2022-01-12T12:12:52.976919Z",
     "shell.execute_reply.started": "2022-01-12T12:11:20.845294Z"
    },
    "papermill": {
     "duration": 0.017736,
     "end_time": "2022-01-12T12:12:52.977698",
     "exception": false,
     "start_time": "2022-01-12T12:12:52.959962",
     "status": "completed"
    },
    "tags": []
   },
   "outputs": [],
   "source": [
    "movie_info = {}\n",
    "movie_info['movie_title'] = []\n",
    "movie_info['genre'] = []\n",
    "movie_info['director'] = []\n",
    "movie_info['cast'] = []\n",
    "\n",
    "counter = 0"
   ]
  },
  {
   "cell_type": "markdown",
   "id": "d86e588d",
   "metadata": {
    "papermill": {
     "duration": 0.009621,
     "end_time": "2022-01-12T12:12:52.996376",
     "exception": false,
     "start_time": "2022-01-12T12:12:52.986755",
     "status": "completed"
    },
    "tags": []
   },
   "source": [
    "![](https://miro.medium.com/max/875/1*VWezDbLoABPoRo1q8_ACrQ.png)"
   ]
  },
  {
   "cell_type": "code",
   "execution_count": 3,
   "id": "45e798eb",
   "metadata": {
    "execution": {
     "iopub.execute_input": "2022-01-12T12:12:53.024044Z",
     "iopub.status.busy": "2022-01-12T12:12:53.023337Z",
     "iopub.status.idle": "2022-01-12T12:12:53.025050Z",
     "shell.execute_reply": "2022-01-12T12:12:53.025554Z",
     "shell.execute_reply.started": "2022-01-12T12:11:20.860106Z"
    },
    "papermill": {
     "duration": 0.019937,
     "end_time": "2022-01-12T12:12:53.025715",
     "exception": false,
     "start_time": "2022-01-12T12:12:53.005778",
     "status": "completed"
    },
    "tags": []
   },
   "outputs": [],
   "source": [
    "def get_movies(url):\n",
    "    '''\n",
    "    Inputs:\n",
    "        url: link to the webpage.\n",
    "    \n",
    "    Returns:\n",
    "        movies: returns list of movies div tags.\n",
    "        next_: returns link of the next page to scrape.\n",
    "        \n",
    "    Credit: @ankitkalauni\n",
    "    '''\n",
    "    time.sleep(0.01)\n",
    "    text = requests.get(url)\n",
    "    text = text.text\n",
    "    file = soup(text, 'html.parser')\n",
    "\n",
    "    block = file.find('div', class_ = 'lister-list') #finding the lister-list class\n",
    "    movies = block.find_all('div', class_ = 'lister-item-content') #list of all the movies content\n",
    "\n",
    "    next_ = file.find('div', class_ = 'desc') #refrence for next page\n",
    "    try:\n",
    "        next_ = \"https://www.imdb.com/\" + next_.find('a',class_ = 'lister-page-next next-page')['href'] #next page link\n",
    "        if counter == 3000: #notebook runs out of memory\n",
    "            next_ = None\n",
    "    except:\n",
    "        print(url)\n",
    "        next_ = None\n",
    "    return movies, next_"
   ]
  },
  {
   "cell_type": "code",
   "execution_count": 4,
   "id": "4511590d",
   "metadata": {
    "execution": {
     "iopub.execute_input": "2022-01-12T12:12:53.048199Z",
     "iopub.status.busy": "2022-01-12T12:12:53.047494Z",
     "iopub.status.idle": "2022-01-12T12:12:53.061798Z",
     "shell.execute_reply": "2022-01-12T12:12:53.061263Z",
     "shell.execute_reply.started": "2022-01-12T12:11:20.879788Z"
    },
    "papermill": {
     "duration": 0.026955,
     "end_time": "2022-01-12T12:12:53.061990",
     "exception": false,
     "start_time": "2022-01-12T12:12:53.035035",
     "status": "completed"
    },
    "tags": []
   },
   "outputs": [],
   "source": [
    "import time\n",
    "import os\n",
    "\n",
    "def loop_moives(movies, next_page):\n",
    "    '''\n",
    "    Inputs:\n",
    "        movies: list of movies to traverse the child's siblings content.\n",
    "        next_page: link to the next page, if None the scraping will stop.\n",
    "    \n",
    "    Returns:\n",
    "        next_page: returns the link to the next page to scrape, if None scrape will stops.\n",
    "        \n",
    "    Credit: @ankitkalauni\n",
    "    '''\n",
    "    for movie in movies:\n",
    "\n",
    "        ##==================================================================\n",
    "        try:\n",
    "            movie_name = movie.select('a[href^=\"/title/\"]')[0].string #movie title\n",
    "        except:\n",
    "            movie_name = np.nan\n",
    "\n",
    "        ##==================================================================\n",
    "        try:\n",
    "            genre = movie.find('p', class_ = 'text-muted')\n",
    "            genre = genre.find('span', class_ = 'genre').string.strip() #genre list\n",
    "        except:\n",
    "            genre = np.nan\n",
    "\n",
    "        #==================================================================\n",
    "        try:\n",
    "            directors = movie.find('p', class_ = '')\n",
    "            directors = str(directors).split('Stars')[0]\n",
    "            directors = soup(directors, 'html.parser')\n",
    "            directors = directors.select('a[href^=\"/name/\"]') \n",
    "\n",
    "            all_directors = \"\"\n",
    "            for director in directors:\n",
    "                all_directors += director.string\n",
    "                all_directors += ', '\n",
    "            \n",
    "            all_directors = all_directors[:-2] #director name\n",
    "        except:\n",
    "            all_directors = np.nan\n",
    "\n",
    "        ##==================================================================\n",
    "        try:\n",
    "            casts = movie.find('p', class_ = '')\n",
    "            casts = str(casts).split('Stars')[1]\n",
    "            casts = soup(casts, 'html.parser')\n",
    "            casts = casts.select('a[href^=\"/name/\"]') \n",
    "            \n",
    "            \n",
    "            all_cast = \"\"\n",
    "            for cast in casts:\n",
    "                all_cast += cast.string\n",
    "                all_cast += ', '\n",
    "            \n",
    "            all_cast = all_cast[:-2] #all cast names\n",
    "        except:\n",
    "            all_cast = np.nan\n",
    "\n",
    "        ##==================================================================\n",
    "\n",
    "        movie_info['movie_title'].append(movie_name)\n",
    "        movie_info['genre'].append(genre)\n",
    "        movie_info['director'].append(all_directors)\n",
    "        movie_info['cast'].append(all_cast)\n",
    "\n",
    "        \n",
    "    print(f'\\r Done with Page {counter}', end = ' ')\n",
    "    return next_page"
   ]
  },
  {
   "cell_type": "markdown",
   "id": "fa343728",
   "metadata": {
    "papermill": {
     "duration": 0.00948,
     "end_time": "2022-01-12T12:12:53.080952",
     "exception": false,
     "start_time": "2022-01-12T12:12:53.071472",
     "status": "completed"
    },
    "tags": []
   },
   "source": [
    "## Version Control:\n",
    "v5 -> 2021 HollyWood Movies (2.2k)\n",
    "\n",
    "v8 -> All Indian/Bollywood Movies (140k)\n",
    "\n",
    "v9 -> Featured Movies from range(2010 - 2020)"
   ]
  },
  {
   "cell_type": "code",
   "execution_count": 5,
   "id": "8fbc83a3",
   "metadata": {
    "_kg_hide-output": true,
    "execution": {
     "iopub.execute_input": "2022-01-12T12:12:53.107753Z",
     "iopub.status.busy": "2022-01-12T12:12:53.107115Z",
     "iopub.status.idle": "2022-01-12T13:16:48.207855Z",
     "shell.execute_reply": "2022-01-12T13:16:48.207305Z"
    },
    "papermill": {
     "duration": 3835.117579,
     "end_time": "2022-01-12T13:16:48.208092",
     "exception": false,
     "start_time": "2022-01-12T12:12:53.090513",
     "status": "completed"
    },
    "tags": []
   },
   "outputs": [
    {
     "name": "stdout",
     "output_type": "stream",
     "text": [
      "Started Collecting Movies of year: 1999\n",
      " Done with Page 78 https://www.imdb.com//search/title/?title_type=feature&year=1999-01-01,1999-12-31&start=3951\n",
      " Done with Page 79 Started Collecting Movies of year: 2000\n",
      " Done with Page 159 https://www.imdb.com//search/title/?title_type=feature&year=2000-01-01,2000-12-31&start=4051\n",
      " Done with Page 160 Started Collecting Movies of year: 2001\n",
      " Done with Page 244 https://www.imdb.com//search/title/?title_type=feature&year=2001-01-01,2001-12-31&start=4251\n",
      " Done with Page 245 Started Collecting Movies of year: 2002\n",
      " Done with Page 331 https://www.imdb.com//search/title/?title_type=feature&year=2002-01-01,2002-12-31&start=4351\n",
      " Done with Page 332 Started Collecting Movies of year: 2003\n",
      " Done with Page 417 https://www.imdb.com//search/title/?title_type=feature&year=2003-01-01,2003-12-31&start=4301\n",
      " Done with Page 418 Started Collecting Movies of year: 2004\n",
      " Done with Page 507 https://www.imdb.com//search/title/?title_type=feature&year=2004-01-01,2004-12-31&start=4501\n",
      " Done with Page 508 Started Collecting Movies of year: 2005\n",
      " Done with Page 610 https://www.imdb.com//search/title/?title_type=feature&year=2005-01-01,2005-12-31&start=5151\n",
      " Done with Page 611 Started Collecting Movies of year: 2006\n",
      " Done with Page 719 https://www.imdb.com//search/title/?title_type=feature&year=2006-01-01,2006-12-31&start=5451\n",
      " Done with Page 720 Started Collecting Movies of year: 2007\n",
      " Done with Page 837 https://www.imdb.com//search/title/?title_type=feature&year=2007-01-01,2007-12-31&start=5901\n",
      " Done with Page 838 Started Collecting Movies of year: 2008\n",
      " Done with Page 970 https://www.imdb.com//search/title/?title_type=feature&year=2008-01-01,2008-12-31&start=6651\n",
      " Done with Page 971 Started Collecting Movies of year: 2009\n",
      " Done with Page 1121 https://www.imdb.com//search/title/?title_type=feature&year=2009-01-01,2009-12-31&start=7551\n",
      " Done with Page 1122 CPU times: user 8min 12s, sys: 9.91 s, total: 8min 21s\n",
      "Wall time: 1h 3min 55s\n"
     ]
    }
   ],
   "source": [
    "%%time\n",
    "\n",
    "# first_link = \"https://www.imdb.com/search/title/?year=2021&title_type=feature&\" #top hollywood movies 2021 version 5\n",
    "# first_link = \"https://www.imdb.com/search/title/?country_of_origin=IN\" #140k Indian Movies version 9\n",
    "\n",
    "movies_year = [*range(1999,2010,1)]\n",
    "\n",
    "for year in movies_year:\n",
    "    first_link = f\"https://www.imdb.com/search/title/?year={str(year)}&title_type=feature&\" #Featured Movies from range(2010 - 2020)\n",
    "    \n",
    "    print(f\"Started Collecting Movies of year: {year}\")\n",
    "    while first_link:\n",
    "        movies_list, next_page = get_movies(first_link)\n",
    "        first_link = loop_moives(movies_list, next_page)\n",
    "        if next_page == None:\n",
    "            break\n",
    "        counter +=1"
   ]
  },
  {
   "cell_type": "code",
   "execution_count": 6,
   "id": "e44d235c",
   "metadata": {
    "execution": {
     "iopub.execute_input": "2022-01-12T13:16:48.908574Z",
     "iopub.status.busy": "2022-01-12T13:16:48.907793Z",
     "iopub.status.idle": "2022-01-12T13:16:49.439946Z",
     "shell.execute_reply": "2022-01-12T13:16:49.439380Z"
    },
    "papermill": {
     "duration": 0.884037,
     "end_time": "2022-01-12T13:16:49.440134",
     "exception": false,
     "start_time": "2022-01-12T13:16:48.556097",
     "status": "completed"
    },
    "tags": []
   },
   "outputs": [
    {
     "name": "stdout",
     "output_type": "stream",
     "text": [
      "(56314, 4)\n"
     ]
    }
   ],
   "source": [
    "movies = pd.DataFrame.from_dict(movie_info)\n",
    "print(movies.shape)\n",
    "\n",
    "movies.to_csv('Movies_2010_2020.csv', index=False)"
   ]
  },
  {
   "cell_type": "code",
   "execution_count": 7,
   "id": "2b88caea",
   "metadata": {
    "execution": {
     "iopub.execute_input": "2022-01-12T13:16:50.273705Z",
     "iopub.status.busy": "2022-01-12T13:16:50.268371Z",
     "iopub.status.idle": "2022-01-12T13:16:50.279166Z",
     "shell.execute_reply": "2022-01-12T13:16:50.279670Z"
    },
    "papermill": {
     "duration": 0.493351,
     "end_time": "2022-01-12T13:16:50.279844",
     "exception": false,
     "start_time": "2022-01-12T13:16:49.786493",
     "status": "completed"
    },
    "tags": []
   },
   "outputs": [
    {
     "data": {
      "text/plain": [
       "movie_title       0\n",
       "genre          6305\n",
       "director          0\n",
       "cast           4838\n",
       "dtype: int64"
      ]
     },
     "execution_count": 7,
     "metadata": {},
     "output_type": "execute_result"
    }
   ],
   "source": [
    "movies.isnull().sum()"
   ]
  },
  {
   "cell_type": "code",
   "execution_count": 8,
   "id": "58737563",
   "metadata": {
    "execution": {
     "iopub.execute_input": "2022-01-12T13:16:50.990406Z",
     "iopub.status.busy": "2022-01-12T13:16:50.989718Z",
     "iopub.status.idle": "2022-01-12T13:16:51.006591Z",
     "shell.execute_reply": "2022-01-12T13:16:51.007172Z"
    },
    "papermill": {
     "duration": 0.370144,
     "end_time": "2022-01-12T13:16:51.007346",
     "exception": false,
     "start_time": "2022-01-12T13:16:50.637202",
     "status": "completed"
    },
    "tags": []
   },
   "outputs": [
    {
     "data": {
      "text/html": [
       "<div>\n",
       "<style scoped>\n",
       "    .dataframe tbody tr th:only-of-type {\n",
       "        vertical-align: middle;\n",
       "    }\n",
       "\n",
       "    .dataframe tbody tr th {\n",
       "        vertical-align: top;\n",
       "    }\n",
       "\n",
       "    .dataframe thead th {\n",
       "        text-align: right;\n",
       "    }\n",
       "</style>\n",
       "<table border=\"1\" class=\"dataframe\">\n",
       "  <thead>\n",
       "    <tr style=\"text-align: right;\">\n",
       "      <th></th>\n",
       "      <th>movie_title</th>\n",
       "      <th>genre</th>\n",
       "      <th>director</th>\n",
       "      <th>cast</th>\n",
       "    </tr>\n",
       "  </thead>\n",
       "  <tbody>\n",
       "    <tr>\n",
       "      <th>0</th>\n",
       "      <td>The Matrix</td>\n",
       "      <td>Action, Sci-Fi</td>\n",
       "      <td>Lana Wachowski, Lilly Wachowski</td>\n",
       "      <td>Keanu Reeves, Laurence Fishburne, Carrie-Anne ...</td>\n",
       "    </tr>\n",
       "    <tr>\n",
       "      <th>1</th>\n",
       "      <td>Fight Club</td>\n",
       "      <td>Drama</td>\n",
       "      <td>David Fincher</td>\n",
       "      <td>Brad Pitt, Edward Norton, Meat Loaf, Zach Grenier</td>\n",
       "    </tr>\n",
       "    <tr>\n",
       "      <th>2</th>\n",
       "      <td>The Green Mile</td>\n",
       "      <td>Crime, Drama, Fantasy</td>\n",
       "      <td>Frank Darabont</td>\n",
       "      <td>Tom Hanks, Michael Clarke Duncan, David Morse,...</td>\n",
       "    </tr>\n",
       "    <tr>\n",
       "      <th>3</th>\n",
       "      <td>Girl, Interrupted</td>\n",
       "      <td>Biography, Drama</td>\n",
       "      <td>James Mangold</td>\n",
       "      <td>Winona Ryder, Angelina Jolie, Clea DuVall, Bri...</td>\n",
       "    </tr>\n",
       "    <tr>\n",
       "      <th>4</th>\n",
       "      <td>Eyes Wide Shut</td>\n",
       "      <td>Drama, Mystery, Thriller</td>\n",
       "      <td>Stanley Kubrick</td>\n",
       "      <td>Tom Cruise, Nicole Kidman, Todd Field, Sydney ...</td>\n",
       "    </tr>\n",
       "    <tr>\n",
       "      <th>...</th>\n",
       "      <td>...</td>\n",
       "      <td>...</td>\n",
       "      <td>...</td>\n",
       "      <td>...</td>\n",
       "    </tr>\n",
       "    <tr>\n",
       "      <th>56309</th>\n",
       "      <td>Alor Thikana</td>\n",
       "      <td>Drama</td>\n",
       "      <td>Bidesh Sarkar</td>\n",
       "      <td>Anjana Basu, Swantana Basu, Jagannath Guha, Ra...</td>\n",
       "    </tr>\n",
       "    <tr>\n",
       "      <th>56310</th>\n",
       "      <td>Dongbei, dongbei</td>\n",
       "      <td>Drama</td>\n",
       "      <td>Zou Peng</td>\n",
       "      <td>Wu Rui-Peng, Yi-Wen Tian, Liu Xing-Ping</td>\n",
       "    </tr>\n",
       "    <tr>\n",
       "      <th>56311</th>\n",
       "      <td>homo gamer</td>\n",
       "      <td>Fantasy</td>\n",
       "      <td>Stepan Grusha</td>\n",
       "      <td>Inessa Perelygina-Vladimirova, Ilya Shidlovsky...</td>\n",
       "    </tr>\n",
       "    <tr>\n",
       "      <th>56312</th>\n",
       "      <td>Czeski film</td>\n",
       "      <td>Action, Comedy</td>\n",
       "      <td>Lukasz Jedynasty</td>\n",
       "      <td>Adrian Jarocki, Kacper Kozicki, Katarzyna Szum...</td>\n",
       "    </tr>\n",
       "    <tr>\n",
       "      <th>56313</th>\n",
       "      <td>Revival</td>\n",
       "      <td>Thriller</td>\n",
       "      <td>Damian Data</td>\n",
       "      <td>Dorota Walasek, Klaudia Wszolek</td>\n",
       "    </tr>\n",
       "  </tbody>\n",
       "</table>\n",
       "<p>56314 rows × 4 columns</p>\n",
       "</div>"
      ],
      "text/plain": [
       "             movie_title                     genre  \\\n",
       "0             The Matrix            Action, Sci-Fi   \n",
       "1             Fight Club                     Drama   \n",
       "2         The Green Mile     Crime, Drama, Fantasy   \n",
       "3      Girl, Interrupted          Biography, Drama   \n",
       "4         Eyes Wide Shut  Drama, Mystery, Thriller   \n",
       "...                  ...                       ...   \n",
       "56309       Alor Thikana                     Drama   \n",
       "56310   Dongbei, dongbei                     Drama   \n",
       "56311         homo gamer                   Fantasy   \n",
       "56312        Czeski film            Action, Comedy   \n",
       "56313            Revival                  Thriller   \n",
       "\n",
       "                              director  \\\n",
       "0      Lana Wachowski, Lilly Wachowski   \n",
       "1                        David Fincher   \n",
       "2                       Frank Darabont   \n",
       "3                        James Mangold   \n",
       "4                      Stanley Kubrick   \n",
       "...                                ...   \n",
       "56309                    Bidesh Sarkar   \n",
       "56310                         Zou Peng   \n",
       "56311                    Stepan Grusha   \n",
       "56312                 Lukasz Jedynasty   \n",
       "56313                      Damian Data   \n",
       "\n",
       "                                                    cast  \n",
       "0      Keanu Reeves, Laurence Fishburne, Carrie-Anne ...  \n",
       "1      Brad Pitt, Edward Norton, Meat Loaf, Zach Grenier  \n",
       "2      Tom Hanks, Michael Clarke Duncan, David Morse,...  \n",
       "3      Winona Ryder, Angelina Jolie, Clea DuVall, Bri...  \n",
       "4      Tom Cruise, Nicole Kidman, Todd Field, Sydney ...  \n",
       "...                                                  ...  \n",
       "56309  Anjana Basu, Swantana Basu, Jagannath Guha, Ra...  \n",
       "56310            Wu Rui-Peng, Yi-Wen Tian, Liu Xing-Ping  \n",
       "56311  Inessa Perelygina-Vladimirova, Ilya Shidlovsky...  \n",
       "56312  Adrian Jarocki, Kacper Kozicki, Katarzyna Szum...  \n",
       "56313                    Dorota Walasek, Klaudia Wszolek  \n",
       "\n",
       "[56314 rows x 4 columns]"
      ]
     },
     "execution_count": 8,
     "metadata": {},
     "output_type": "execute_result"
    }
   ],
   "source": [
    "movies"
   ]
  },
  {
   "cell_type": "markdown",
   "id": "d68d37ed",
   "metadata": {
    "papermill": {
     "duration": 0.373002,
     "end_time": "2022-01-12T13:16:51.726923",
     "exception": false,
     "start_time": "2022-01-12T13:16:51.353921",
     "status": "completed"
    },
    "tags": []
   },
   "source": [
    "## to learn webscraping using BS4:\n",
    "\n",
    "1. [Web Scraping Cheat Sheet (2021), Python for Web Scraping](https://medium.com/geekculture/web-scraping-cheat-sheet-2021-python-for-web-scraping-cad1540ce21c)\n",
    "\n",
    "2. [Beautiful Soup Documentation](https://www.crummy.com/software/BeautifulSoup/bs4/doc/)\n",
    "\n",
    "3. [StackOverflow](https://stackoverflow.com/)\n",
    "\n",
    "4. [Beautiful Soup 4 Tutorial - Tech with Tim](https://www.youtube.com/watch?v=gRLHr664tXA&list=PLzMcBGfZo4-lSq2IDrA6vpZEV92AmQfJK)"
   ]
  }
 ],
 "metadata": {
  "kernelspec": {
   "display_name": "Python 3",
   "language": "python",
   "name": "python3"
  },
  "language_info": {
   "codemirror_mode": {
    "name": "ipython",
    "version": 3
   },
   "file_extension": ".py",
   "mimetype": "text/x-python",
   "name": "python",
   "nbconvert_exporter": "python",
   "pygments_lexer": "ipython3",
   "version": "3.7.12"
  },
  "papermill": {
   "default_parameters": {},
   "duration": 3851.9037,
   "end_time": "2022-01-12T13:16:55.017278",
   "environment_variables": {},
   "exception": null,
   "input_path": "__notebook__.ipynb",
   "output_path": "__notebook__.ipynb",
   "parameters": {},
   "start_time": "2022-01-12T12:12:43.113578",
   "version": "2.3.3"
  }
 },
 "nbformat": 4,
 "nbformat_minor": 5
}

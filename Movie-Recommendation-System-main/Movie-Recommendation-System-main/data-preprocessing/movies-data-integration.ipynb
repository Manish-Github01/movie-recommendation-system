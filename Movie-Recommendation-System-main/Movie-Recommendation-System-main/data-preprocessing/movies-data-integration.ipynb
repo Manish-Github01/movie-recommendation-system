{
 "cells": [
  {
   "cell_type": "code",
   "execution_count": 1,
   "id": "1adf11a3",
   "metadata": {
    "_cell_guid": "b1076dfc-b9ad-4769-8c92-a6c4dae69d19",
    "_uuid": "8f2839f25d086af736a60e9eeb907d3b93b6e0e5",
    "execution": {
     "iopub.execute_input": "2022-01-21T18:17:20.899489Z",
     "iopub.status.busy": "2022-01-21T18:17:20.898204Z",
     "iopub.status.idle": "2022-01-21T18:17:20.907539Z",
     "shell.execute_reply": "2022-01-21T18:17:20.908121Z",
     "shell.execute_reply.started": "2022-01-21T18:16:46.645008Z"
    },
    "papermill": {
     "duration": 0.02505,
     "end_time": "2022-01-21T18:17:20.908470",
     "exception": false,
     "start_time": "2022-01-21T18:17:20.883420",
     "status": "completed"
    },
    "tags": []
   },
   "outputs": [],
   "source": [
    "import pandas as pd\n",
    "import numpy as np\n",
    "import os, gc\n",
    "gc.enable()"
   ]
  },
  {
   "cell_type": "code",
   "execution_count": 2,
   "id": "fc45eef2",
   "metadata": {
    "execution": {
     "iopub.execute_input": "2022-01-21T18:17:20.934549Z",
     "iopub.status.busy": "2022-01-21T18:17:20.933818Z",
     "iopub.status.idle": "2022-01-21T18:17:20.936884Z",
     "shell.execute_reply": "2022-01-21T18:17:20.937510Z",
     "shell.execute_reply.started": "2022-01-21T18:16:46.651151Z"
    },
    "papermill": {
     "duration": 0.016488,
     "end_time": "2022-01-21T18:17:20.937736",
     "exception": false,
     "start_time": "2022-01-21T18:17:20.921248",
     "status": "completed"
    },
    "tags": []
   },
   "outputs": [],
   "source": [
    "class config:\n",
    "    wdir = '../input/movie-recommendation-system-indian-movies-df/'"
   ]
  },
  {
   "cell_type": "code",
   "execution_count": 3,
   "id": "81e5218b",
   "metadata": {
    "execution": {
     "iopub.execute_input": "2022-01-21T18:17:20.962412Z",
     "iopub.status.busy": "2022-01-21T18:17:20.961701Z",
     "iopub.status.idle": "2022-01-21T18:17:22.497739Z",
     "shell.execute_reply": "2022-01-21T18:17:22.497145Z",
     "shell.execute_reply.started": "2022-01-21T18:16:46.663877Z"
    },
    "papermill": {
     "duration": 1.549913,
     "end_time": "2022-01-21T18:17:22.497918",
     "exception": false,
     "start_time": "2022-01-21T18:17:20.948005",
     "status": "completed"
    },
    "tags": []
   },
   "outputs": [],
   "source": [
    "df0 = pd.read_csv(config.wdir + 'main_data.csv')\n",
    "df1 = pd.read_csv(config.wdir + 'Movies_1980_1989.csv')\n",
    "df2 = pd.read_csv(config.wdir + 'Movies_1990_1997.csv')\n",
    "df3 = pd.read_csv(config.wdir + 'Movies_1998_1997.csv')\n",
    "df4 = pd.read_csv(config.wdir + 'Movies_1999_2009csv.csv')\n",
    "df5 = pd.read_csv(config.wdir + 'Movies_2010_2020.csv')\n",
    "df6 = pd.read_csv(config.wdir + 'all_indian_movies.csv')"
   ]
  },
  {
   "cell_type": "code",
   "execution_count": 4,
   "id": "ee070d92",
   "metadata": {
    "execution": {
     "iopub.execute_input": "2022-01-21T18:17:22.543366Z",
     "iopub.status.busy": "2022-01-21T18:17:22.542684Z",
     "iopub.status.idle": "2022-01-21T18:17:23.194637Z",
     "shell.execute_reply": "2022-01-21T18:17:23.195303Z",
     "shell.execute_reply.started": "2022-01-21T18:16:47.564692Z"
    },
    "papermill": {
     "duration": 0.685519,
     "end_time": "2022-01-21T18:17:23.195529",
     "exception": false,
     "start_time": "2022-01-21T18:17:22.510010",
     "status": "completed"
    },
    "tags": []
   },
   "outputs": [],
   "source": [
    "dfs = [df1, df2, df3, df4, df5, df6]\n",
    "\n",
    "for df in dfs:\n",
    "    df.dropna(inplace = True)\n",
    "    df.drop_duplicates(inplace = True)\n",
    "    \n",
    "all_df = dfs[0]\n",
    "\n",
    "for df in dfs[1:]:\n",
    "    all_df = pd.concat([all_df,df])\n",
    "\n",
    "all_df['movie_title'] = all_df['movie_title'].apply(lambda x:x.lower())\n",
    "all_df = all_df.loc[~all_df['movie_title'].duplicated(keep = 'last')]"
   ]
  },
  {
   "cell_type": "code",
   "execution_count": 5,
   "id": "f6f23292",
   "metadata": {
    "execution": {
     "iopub.execute_input": "2022-01-21T18:17:23.244399Z",
     "iopub.status.busy": "2022-01-21T18:17:23.243709Z",
     "iopub.status.idle": "2022-01-21T18:17:23.758476Z",
     "shell.execute_reply": "2022-01-21T18:17:23.757865Z",
     "shell.execute_reply.started": "2022-01-21T18:16:48.232339Z"
    },
    "papermill": {
     "duration": 0.553312,
     "end_time": "2022-01-21T18:17:23.758703",
     "exception": false,
     "start_time": "2022-01-21T18:17:23.205391",
     "status": "completed"
    },
    "tags": []
   },
   "outputs": [],
   "source": [
    "all_df['all'] = all_df['genre'] +' '+ all_df['director'] +' '+ all_df['cast']\n",
    "all_df['all'] = all_df['all'].str.replace(', ', ' ')"
   ]
  },
  {
   "cell_type": "code",
   "execution_count": 6,
   "id": "e0a3e704",
   "metadata": {
    "execution": {
     "iopub.execute_input": "2022-01-21T18:17:23.786102Z",
     "iopub.status.busy": "2022-01-21T18:17:23.785176Z",
     "iopub.status.idle": "2022-01-21T18:17:23.798893Z",
     "shell.execute_reply": "2022-01-21T18:17:23.799387Z",
     "shell.execute_reply.started": "2022-01-21T18:16:48.701681Z"
    },
    "papermill": {
     "duration": 0.031152,
     "end_time": "2022-01-21T18:17:23.799573",
     "exception": false,
     "start_time": "2022-01-21T18:17:23.768421",
     "status": "completed"
    },
    "tags": []
   },
   "outputs": [
    {
     "data": {
      "text/html": [
       "<div>\n",
       "<style scoped>\n",
       "    .dataframe tbody tr th:only-of-type {\n",
       "        vertical-align: middle;\n",
       "    }\n",
       "\n",
       "    .dataframe tbody tr th {\n",
       "        vertical-align: top;\n",
       "    }\n",
       "\n",
       "    .dataframe thead th {\n",
       "        text-align: right;\n",
       "    }\n",
       "</style>\n",
       "<table border=\"1\" class=\"dataframe\">\n",
       "  <thead>\n",
       "    <tr style=\"text-align: right;\">\n",
       "      <th></th>\n",
       "      <th>director_name</th>\n",
       "      <th>actor_1_name</th>\n",
       "      <th>actor_2_name</th>\n",
       "      <th>actor_3_name</th>\n",
       "      <th>genres</th>\n",
       "      <th>movie_title</th>\n",
       "      <th>comb</th>\n",
       "    </tr>\n",
       "  </thead>\n",
       "  <tbody>\n",
       "    <tr>\n",
       "      <th>0</th>\n",
       "      <td>James Cameron</td>\n",
       "      <td>CCH Pounder</td>\n",
       "      <td>Joel David Moore</td>\n",
       "      <td>Wes Studi</td>\n",
       "      <td>Action Adventure Fantasy Sci-Fi</td>\n",
       "      <td>avatar</td>\n",
       "      <td>CCH Pounder Joel David Moore Wes Studi James C...</td>\n",
       "    </tr>\n",
       "  </tbody>\n",
       "</table>\n",
       "</div>"
      ],
      "text/plain": [
       "   director_name actor_1_name      actor_2_name actor_3_name  \\\n",
       "0  James Cameron  CCH Pounder  Joel David Moore    Wes Studi   \n",
       "\n",
       "                            genres movie_title  \\\n",
       "0  Action Adventure Fantasy Sci-Fi      avatar   \n",
       "\n",
       "                                                comb  \n",
       "0  CCH Pounder Joel David Moore Wes Studi James C...  "
      ]
     },
     "execution_count": 6,
     "metadata": {},
     "output_type": "execute_result"
    }
   ],
   "source": [
    "df0.head(1)"
   ]
  },
  {
   "cell_type": "code",
   "execution_count": 7,
   "id": "542f6253",
   "metadata": {
    "execution": {
     "iopub.execute_input": "2022-01-21T18:17:23.827843Z",
     "iopub.status.busy": "2022-01-21T18:17:23.822305Z",
     "iopub.status.idle": "2022-01-21T18:17:23.895713Z",
     "shell.execute_reply": "2022-01-21T18:17:23.894990Z",
     "shell.execute_reply.started": "2022-01-21T18:16:48.716389Z"
    },
    "papermill": {
     "duration": 0.086255,
     "end_time": "2022-01-21T18:17:23.895866",
     "exception": false,
     "start_time": "2022-01-21T18:17:23.809611",
     "status": "completed"
    },
    "tags": []
   },
   "outputs": [],
   "source": [
    "keep = ['movie_title', 'comb']\n",
    "col = ['movie_title','all']\n",
    "\n",
    "df0 = df0.loc[:,keep]\n",
    "all_df = all_df.loc[:, ['movie_title','all']]\n",
    "\n",
    "df0.columns = col"
   ]
  },
  {
   "cell_type": "code",
   "execution_count": 8,
   "id": "5d62d85f",
   "metadata": {
    "execution": {
     "iopub.execute_input": "2022-01-21T18:17:23.922057Z",
     "iopub.status.busy": "2022-01-21T18:17:23.919507Z",
     "iopub.status.idle": "2022-01-21T18:17:24.133155Z",
     "shell.execute_reply": "2022-01-21T18:17:24.132507Z",
     "shell.execute_reply.started": "2022-01-21T18:16:48.782739Z"
    },
    "papermill": {
     "duration": 0.227696,
     "end_time": "2022-01-21T18:17:24.133317",
     "exception": false,
     "start_time": "2022-01-21T18:17:23.905621",
     "status": "completed"
    },
    "tags": []
   },
   "outputs": [],
   "source": [
    "final = pd.concat([all_df, df0])\n",
    "for col in final.columns:\n",
    "    final[col] = final[col].apply(lambda x:x.lower())"
   ]
  },
  {
   "cell_type": "code",
   "execution_count": 9,
   "id": "7b1f8810",
   "metadata": {
    "execution": {
     "iopub.execute_input": "2022-01-21T18:17:24.211744Z",
     "iopub.status.busy": "2022-01-21T18:17:24.210969Z",
     "iopub.status.idle": "2022-01-21T18:17:24.229826Z",
     "shell.execute_reply": "2022-01-21T18:17:24.229007Z",
     "shell.execute_reply.started": "2022-01-21T18:16:48.987803Z"
    },
    "papermill": {
     "duration": 0.086188,
     "end_time": "2022-01-21T18:17:24.230006",
     "exception": false,
     "start_time": "2022-01-21T18:17:24.143818",
     "status": "completed"
    },
    "tags": []
   },
   "outputs": [],
   "source": [
    "final = final.loc[~final.loc[:,'movie_title'].duplicated(keep = 'last')]"
   ]
  },
  {
   "cell_type": "code",
   "execution_count": 10,
   "id": "89e25558",
   "metadata": {
    "execution": {
     "iopub.execute_input": "2022-01-21T18:17:24.256355Z",
     "iopub.status.busy": "2022-01-21T18:17:24.255673Z",
     "iopub.status.idle": "2022-01-21T18:17:25.393597Z",
     "shell.execute_reply": "2022-01-21T18:17:25.394210Z",
     "shell.execute_reply.started": "2022-01-21T18:16:49.060792Z"
    },
    "papermill": {
     "duration": 1.153945,
     "end_time": "2022-01-21T18:17:25.394470",
     "exception": false,
     "start_time": "2022-01-21T18:17:24.240525",
     "status": "completed"
    },
    "tags": []
   },
   "outputs": [],
   "source": [
    "final.to_csv('MoviesDataset.csv', index = False)"
   ]
  }
 ],
 "metadata": {
  "kernelspec": {
   "display_name": "Python 3",
   "language": "python",
   "name": "python3"
  },
  "language_info": {
   "codemirror_mode": {
    "name": "ipython",
    "version": 3
   },
   "file_extension": ".py",
   "mimetype": "text/x-python",
   "name": "python",
   "nbconvert_exporter": "python",
   "pygments_lexer": "ipython3",
   "version": "3.7.12"
  },
  "papermill": {
   "default_parameters": {},
   "duration": 16.087898,
   "end_time": "2022-01-21T18:17:26.116609",
   "environment_variables": {},
   "exception": null,
   "input_path": "__notebook__.ipynb",
   "output_path": "__notebook__.ipynb",
   "parameters": {},
   "start_time": "2022-01-21T18:17:10.028711",
   "version": "2.3.3"
  }
 },
 "nbformat": 4,
 "nbformat_minor": 5
}

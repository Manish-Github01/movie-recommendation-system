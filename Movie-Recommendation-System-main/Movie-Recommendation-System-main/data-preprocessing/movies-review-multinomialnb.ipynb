{
 "cells": [
  {
   "cell_type": "code",
   "execution_count": 1,
   "id": "829bbcba",
   "metadata": {
    "_cell_guid": "b1076dfc-b9ad-4769-8c92-a6c4dae69d19",
    "_uuid": "8f2839f25d086af736a60e9eeb907d3b93b6e0e5",
    "execution": {
     "iopub.execute_input": "2022-02-24T07:09:43.694947Z",
     "iopub.status.busy": "2022-02-24T07:09:43.693250Z",
     "iopub.status.idle": "2022-02-24T07:09:53.290520Z",
     "shell.execute_reply": "2022-02-24T07:09:53.291243Z",
     "shell.execute_reply.started": "2022-02-24T06:55:59.667764Z"
    },
    "papermill": {
     "duration": 9.616991,
     "end_time": "2022-02-24T07:09:53.291529",
     "exception": false,
     "start_time": "2022-02-24T07:09:43.674538",
     "status": "completed"
    },
    "tags": []
   },
   "outputs": [
    {
     "name": "stdout",
     "output_type": "stream",
     "text": [
      "['movie-recommendation-system-indian-movies-df']\n"
     ]
    }
   ],
   "source": [
    "#Load the libraries\n",
    "\n",
    "import pandas as pd\n",
    "import numpy as np\n",
    "import nltk\n",
    "from nltk.corpus import stopwords\n",
    "from sklearn.feature_extraction.text import TfidfVectorizer\n",
    "from sklearn.model_selection import train_test_split\n",
    "from sklearn import naive_bayes\n",
    "from sklearn.metrics import roc_auc_score,accuracy_score\n",
    "import pickle\n",
    "from bs4 import BeautifulSoup\n",
    "import re\n",
    "import seaborn as sns\n",
    "import matplotlib.pyplot as plt\n",
    "import nltk\n",
    "from sklearn.feature_extraction.text import CountVectorizer\n",
    "from sklearn.feature_extraction.text import TfidfVectorizer\n",
    "from sklearn.preprocessing import LabelBinarizer\n",
    "from nltk.corpus import stopwords\n",
    "from nltk.stem.porter import PorterStemmer\n",
    "from wordcloud import WordCloud,STOPWORDS\n",
    "from nltk.stem import WordNetLemmatizer\n",
    "from nltk.tokenize import word_tokenize,sent_tokenize\n",
    "from bs4 import BeautifulSoup\n",
    "import spacy\n",
    "import re,string,unicodedata\n",
    "from nltk.tokenize.toktok import ToktokTokenizer\n",
    "from nltk.stem import LancasterStemmer,WordNetLemmatizer\n",
    "from sklearn.linear_model import LogisticRegression,SGDClassifier\n",
    "from sklearn.naive_bayes import MultinomialNB\n",
    "from sklearn.svm import SVC\n",
    "from textblob import TextBlob\n",
    "from textblob import Word\n",
    "from sklearn.metrics import classification_report,confusion_matrix,accuracy_score\n",
    "\n",
    "import os\n",
    "print(os.listdir(\"../input\"))\n",
    "import warnings\n",
    "warnings.filterwarnings('ignore')"
   ]
  },
  {
   "cell_type": "code",
   "execution_count": 2,
   "id": "2786354a",
   "metadata": {
    "execution": {
     "iopub.execute_input": "2022-02-24T07:09:53.323304Z",
     "iopub.status.busy": "2022-02-24T07:09:53.322676Z",
     "iopub.status.idle": "2022-02-24T07:09:53.606035Z",
     "shell.execute_reply": "2022-02-24T07:09:53.606691Z",
     "shell.execute_reply.started": "2022-02-24T06:56:11.222222Z"
    },
    "papermill": {
     "duration": 0.300527,
     "end_time": "2022-02-24T07:09:53.606922",
     "exception": false,
     "start_time": "2022-02-24T07:09:53.306395",
     "status": "completed"
    },
    "tags": []
   },
   "outputs": [
    {
     "name": "stdout",
     "output_type": "stream",
     "text": [
      "[nltk_data] Downloading package stopwords to /usr/share/nltk_data...\n",
      "[nltk_data]   Package stopwords is already up-to-date!\n"
     ]
    },
    {
     "data": {
      "text/plain": [
       "True"
      ]
     },
     "execution_count": 2,
     "metadata": {},
     "output_type": "execute_result"
    }
   ],
   "source": [
    "nltk.download(\"stopwords\")"
   ]
  },
  {
   "cell_type": "code",
   "execution_count": 3,
   "id": "b60cd080",
   "metadata": {
    "execution": {
     "iopub.execute_input": "2022-02-24T07:09:53.640590Z",
     "iopub.status.busy": "2022-02-24T07:09:53.640032Z",
     "iopub.status.idle": "2022-02-24T07:09:53.667802Z",
     "shell.execute_reply": "2022-02-24T07:09:53.668298Z",
     "shell.execute_reply.started": "2022-02-24T06:56:11.392995Z"
    },
    "papermill": {
     "duration": 0.046838,
     "end_time": "2022-02-24T07:09:53.668460",
     "exception": false,
     "start_time": "2022-02-24T07:09:53.621622",
     "status": "completed"
    },
    "tags": []
   },
   "outputs": [],
   "source": [
    "dataset = pd.read_csv('../input/movie-recommendation-system-indian-movies-df/reviews.txt',sep = '\\t', names =['sentiment','review'])"
   ]
  },
  {
   "cell_type": "code",
   "execution_count": 4,
   "id": "26a72d1c",
   "metadata": {
    "execution": {
     "iopub.execute_input": "2022-02-24T07:09:53.701474Z",
     "iopub.status.busy": "2022-02-24T07:09:53.700796Z",
     "iopub.status.idle": "2022-02-24T07:09:55.226746Z",
     "shell.execute_reply": "2022-02-24T07:09:55.226263Z",
     "shell.execute_reply.started": "2022-02-24T06:56:11.424345Z"
    },
    "papermill": {
     "duration": 1.544339,
     "end_time": "2022-02-24T07:09:55.226902",
     "exception": false,
     "start_time": "2022-02-24T07:09:53.682563",
     "status": "completed"
    },
    "tags": []
   },
   "outputs": [],
   "source": [
    "imdb_data = pd.read_csv('../input/movie-recommendation-system-indian-movies-df/IMDB Dataset.csv/IMDB Dataset.csv')\n",
    "imdb_data.loc[:, 'sentiment'] = imdb_data.loc[:, 'sentiment'].map({'positive':1, 'negative':0})"
   ]
  },
  {
   "cell_type": "code",
   "execution_count": 5,
   "id": "ece25f43",
   "metadata": {
    "execution": {
     "iopub.execute_input": "2022-02-24T07:09:55.261343Z",
     "iopub.status.busy": "2022-02-24T07:09:55.260419Z",
     "iopub.status.idle": "2022-02-24T07:09:55.320506Z",
     "shell.execute_reply": "2022-02-24T07:09:55.319782Z",
     "shell.execute_reply.started": "2022-02-24T06:56:12.853689Z"
    },
    "papermill": {
     "duration": 0.079416,
     "end_time": "2022-02-24T07:09:55.320657",
     "exception": false,
     "start_time": "2022-02-24T07:09:55.241241",
     "status": "completed"
    },
    "tags": []
   },
   "outputs": [],
   "source": [
    "#concating the 2 dataset and keeping only unique values\n",
    "imdb_data = pd.concat([imdb_data,dataset])\n",
    "imdb_data = imdb_data.loc[~imdb_data.loc[:,\"review\"].duplicated()]"
   ]
  },
  {
   "cell_type": "code",
   "execution_count": 6,
   "id": "7e00a0f0",
   "metadata": {
    "execution": {
     "iopub.execute_input": "2022-02-24T07:09:55.355133Z",
     "iopub.status.busy": "2022-02-24T07:09:55.354428Z",
     "iopub.status.idle": "2022-02-24T07:09:55.358119Z",
     "shell.execute_reply": "2022-02-24T07:09:55.358577Z",
     "shell.execute_reply.started": "2022-02-24T06:56:12.921882Z"
    },
    "papermill": {
     "duration": 0.023563,
     "end_time": "2022-02-24T07:09:55.358737",
     "exception": false,
     "start_time": "2022-02-24T07:09:55.335174",
     "status": "completed"
    },
    "tags": []
   },
   "outputs": [],
   "source": [
    "tokenizer=ToktokTokenizer()\n",
    "stopword_list = nltk.corpus.stopwords.words('english')"
   ]
  },
  {
   "cell_type": "code",
   "execution_count": 7,
   "id": "aa75e9c0",
   "metadata": {
    "execution": {
     "iopub.execute_input": "2022-02-24T07:09:55.391299Z",
     "iopub.status.busy": "2022-02-24T07:09:55.390374Z",
     "iopub.status.idle": "2022-02-24T07:10:05.033475Z",
     "shell.execute_reply": "2022-02-24T07:10:05.032989Z",
     "shell.execute_reply.started": "2022-02-24T06:56:12.932170Z"
    },
    "papermill": {
     "duration": 9.660446,
     "end_time": "2022-02-24T07:10:05.033632",
     "exception": false,
     "start_time": "2022-02-24T07:09:55.373186",
     "status": "completed"
    },
    "tags": []
   },
   "outputs": [],
   "source": [
    "#Removing the html strips\n",
    "def strip_html(text):\n",
    "    soup = BeautifulSoup(text, \"html.parser\")\n",
    "    return soup.get_text()\n",
    "\n",
    "#Removing the square brackets\n",
    "def remove_between_square_brackets(text):\n",
    "    return re.sub('\\[[^]]*\\]', '', text)\n",
    "\n",
    "#Removing the noisy text\n",
    "def denoise_text(text):\n",
    "    text = strip_html(text)\n",
    "    text = remove_between_square_brackets(text)\n",
    "    return text\n",
    "\n",
    "#Apply function on review column\n",
    "imdb_data['review'] = imdb_data['review'].apply(denoise_text)\n",
    "\n",
    "#Define function for removing special characters\n",
    "def remove_special_characters(text, remove_digits=True):\n",
    "    pattern=r'[^a-zA-z0-9\\s]'\n",
    "    text=re.sub(pattern,'',text)\n",
    "    return text\n",
    "#Apply function on review column\n",
    "imdb_data['review']=imdb_data['review'].apply(remove_special_characters)"
   ]
  },
  {
   "cell_type": "code",
   "execution_count": 8,
   "id": "dc42db14",
   "metadata": {
    "execution": {
     "iopub.execute_input": "2022-02-24T07:10:05.068817Z",
     "iopub.status.busy": "2022-02-24T07:10:05.065028Z",
     "iopub.status.idle": "2022-02-24T07:13:01.917087Z",
     "shell.execute_reply": "2022-02-24T07:13:01.916383Z",
     "shell.execute_reply.started": "2022-02-24T06:56:22.805191Z"
    },
    "papermill": {
     "duration": 176.869194,
     "end_time": "2022-02-24T07:13:01.917243",
     "exception": false,
     "start_time": "2022-02-24T07:10:05.048049",
     "status": "completed"
    },
    "tags": []
   },
   "outputs": [],
   "source": [
    "#Stemming the text\n",
    "def simple_stemmer(text):\n",
    "    ps = nltk.porter.PorterStemmer()\n",
    "    text= ' '.join([ps.stem(word) for word in text.split()])\n",
    "    return text\n",
    "#Apply function on review column\n",
    "imdb_data['review']=imdb_data['review'].apply(simple_stemmer)"
   ]
  },
  {
   "cell_type": "code",
   "execution_count": 9,
   "id": "0db11763",
   "metadata": {
    "execution": {
     "iopub.execute_input": "2022-02-24T07:13:01.957037Z",
     "iopub.status.busy": "2022-02-24T07:13:01.955847Z",
     "iopub.status.idle": "2022-02-24T07:13:32.834564Z",
     "shell.execute_reply": "2022-02-24T07:13:32.834068Z",
     "shell.execute_reply.started": "2022-02-24T06:59:20.219790Z"
    },
    "papermill": {
     "duration": 30.902625,
     "end_time": "2022-02-24T07:13:32.834705",
     "exception": false,
     "start_time": "2022-02-24T07:13:01.932080",
     "status": "completed"
    },
    "tags": []
   },
   "outputs": [
    {
     "name": "stdout",
     "output_type": "stream",
     "text": [
      "{'nor', \"won't\", 'them', 'didn', 'did', 'those', 'so', \"aren't\", 'a', 'theirs', 'as', 'has', 'all', \"needn't\", 've', 'hadn', \"hasn't\", 'hers', 'above', 'off', 'that', 'before', 'an', 'd', 'wasn', 'do', 're', 'ma', 'out', 'o', 'your', 'after', \"didn't\", 'with', 'about', 'very', 'don', \"mightn't\", 'here', 'are', 'ours', 'can', \"doesn't\", 'own', 'which', \"wasn't\", 'yourselves', 'we', 'is', 'in', 'these', 'against', \"hadn't\", 'won', 'not', 'only', 'some', 'myself', 'when', 's', 'she', 'at', 'or', 'but', 'from', 'her', \"weren't\", 'yourself', 'you', 'same', 'haven', 'him', \"isn't\", 'for', 'itself', \"wouldn't\", 'such', \"shan't\", 'further', 'by', 'doing', 'because', 'if', 'more', \"shouldn't\", 'between', 'into', 't', 'himself', 'i', 'having', 'under', 'isn', 'once', 'too', 'themselves', 'shouldn', 'will', 'hasn', 'while', 'our', 'whom', 'most', 'why', 'shan', 'who', \"it's\", 'then', 'y', 'over', 'herself', 'just', 'were', 'my', 'll', 'had', 'to', 'have', 'until', 'couldn', 'ourselves', \"don't\", 'each', 'ain', 'up', \"haven't\", 'he', 'be', \"you'd\", 'of', \"that'll\", 'being', 'any', 'there', 'what', 'through', 'mightn', 'the', 'its', \"she's\", 'does', 'aren', 'yours', 'they', 'and', 'again', \"you'll\", 'during', 'where', \"you've\", 'their', 'm', \"couldn't\", 'been', 'no', 'was', 'both', 'wouldn', 'other', 'me', 'it', 'on', \"should've\", 'how', 'weren', 'this', 'his', 'now', 'down', 'below', 'needn', \"you're\", 'doesn', \"mustn't\", 'mustn', 'should', 'than', 'am', 'few'}\n"
     ]
    }
   ],
   "source": [
    "#set stopwords to english\n",
    "stop=set(stopwords.words('english'))\n",
    "print(stop)\n",
    "\n",
    "#removing the stopwords\n",
    "def remove_stopwords(text, is_lower_case=False):\n",
    "    tokens = tokenizer.tokenize(text)\n",
    "    tokens = [token.strip() for token in tokens]\n",
    "    if is_lower_case:\n",
    "        filtered_tokens = [token for token in tokens if token not in stopword_list]\n",
    "    else:\n",
    "        filtered_tokens = [token for token in tokens if token.lower() not in stopword_list]\n",
    "    filtered_text = ' '.join(filtered_tokens)    \n",
    "    return filtered_text\n",
    "#Apply function on review column\n",
    "imdb_data['review']=imdb_data['review'].apply(remove_stopwords)"
   ]
  },
  {
   "cell_type": "code",
   "execution_count": 10,
   "id": "6498af5d",
   "metadata": {
    "execution": {
     "iopub.execute_input": "2022-02-24T07:13:32.869663Z",
     "iopub.status.busy": "2022-02-24T07:13:32.868840Z",
     "iopub.status.idle": "2022-02-24T07:13:32.871525Z",
     "shell.execute_reply": "2022-02-24T07:13:32.871096Z",
     "shell.execute_reply.started": "2022-02-24T06:59:51.123365Z"
    },
    "papermill": {
     "duration": 0.022101,
     "end_time": "2022-02-24T07:13:32.871669",
     "exception": false,
     "start_time": "2022-02-24T07:13:32.849568",
     "status": "completed"
    },
    "tags": []
   },
   "outputs": [],
   "source": [
    "vectorizer = TfidfVectorizer(use_idf = True,lowercase = True, strip_accents='ascii',stop_words=stop)"
   ]
  },
  {
   "cell_type": "code",
   "execution_count": 11,
   "id": "983e9d95",
   "metadata": {
    "execution": {
     "iopub.execute_input": "2022-02-24T07:13:32.911292Z",
     "iopub.status.busy": "2022-02-24T07:13:32.910318Z",
     "iopub.status.idle": "2022-02-24T07:13:39.619712Z",
     "shell.execute_reply": "2022-02-24T07:13:39.620429Z",
     "shell.execute_reply.started": "2022-02-24T06:59:51.133092Z"
    },
    "papermill": {
     "duration": 6.734128,
     "end_time": "2022-02-24T07:13:39.620619",
     "exception": false,
     "start_time": "2022-02-24T07:13:32.886491",
     "status": "completed"
    },
    "tags": []
   },
   "outputs": [],
   "source": [
    "X = vectorizer.fit_transform(imdb_data.review)\n",
    "y = imdb_data.sentiment\n",
    "pickle.dump(vectorizer, open('tranform.pkl', 'wb'))"
   ]
  },
  {
   "cell_type": "code",
   "execution_count": 12,
   "id": "af0da4c1",
   "metadata": {
    "execution": {
     "iopub.execute_input": "2022-02-24T07:13:39.655686Z",
     "iopub.status.busy": "2022-02-24T07:13:39.655121Z",
     "iopub.status.idle": "2022-02-24T07:13:39.685209Z",
     "shell.execute_reply": "2022-02-24T07:13:39.685720Z",
     "shell.execute_reply.started": "2022-02-24T06:59:57.660034Z"
    },
    "papermill": {
     "duration": 0.050478,
     "end_time": "2022-02-24T07:13:39.685918",
     "exception": false,
     "start_time": "2022-02-24T07:13:39.635440",
     "status": "completed"
    },
    "tags": []
   },
   "outputs": [],
   "source": [
    "X_train, X_test, y_train, y_test = train_test_split(X, y, test_size=0.20, random_state=42)"
   ]
  },
  {
   "cell_type": "code",
   "execution_count": 13,
   "id": "13b11cd9",
   "metadata": {
    "execution": {
     "iopub.execute_input": "2022-02-24T07:13:39.720480Z",
     "iopub.status.busy": "2022-02-24T07:13:39.719724Z",
     "iopub.status.idle": "2022-02-24T07:13:39.777994Z",
     "shell.execute_reply": "2022-02-24T07:13:39.777519Z",
     "shell.execute_reply.started": "2022-02-24T06:59:57.694508Z"
    },
    "papermill": {
     "duration": 0.077498,
     "end_time": "2022-02-24T07:13:39.778220",
     "exception": false,
     "start_time": "2022-02-24T07:13:39.700722",
     "status": "completed"
    },
    "tags": []
   },
   "outputs": [
    {
     "data": {
      "text/plain": [
       "MultinomialNB()"
      ]
     },
     "execution_count": 13,
     "metadata": {},
     "output_type": "execute_result"
    }
   ],
   "source": [
    "clf = naive_bayes.MultinomialNB()\n",
    "clf.fit(X_train,y_train)"
   ]
  },
  {
   "cell_type": "code",
   "execution_count": 14,
   "id": "fde587c5",
   "metadata": {
    "execution": {
     "iopub.execute_input": "2022-02-24T07:13:39.812937Z",
     "iopub.status.busy": "2022-02-24T07:13:39.810958Z",
     "iopub.status.idle": "2022-02-24T07:13:39.827889Z",
     "shell.execute_reply": "2022-02-24T07:13:39.827451Z",
     "shell.execute_reply.started": "2022-02-24T06:59:57.755080Z"
    },
    "papermill": {
     "duration": 0.034464,
     "end_time": "2022-02-24T07:13:39.828035",
     "exception": false,
     "start_time": "2022-02-24T07:13:39.793571",
     "status": "completed"
    },
    "tags": []
   },
   "outputs": [
    {
     "data": {
      "text/plain": [
       "86.05405405405405"
      ]
     },
     "execution_count": 14,
     "metadata": {},
     "output_type": "execute_result"
    }
   ],
   "source": [
    "accuracy_score(y_test,clf.predict(X_test))*100"
   ]
  },
  {
   "cell_type": "code",
   "execution_count": 15,
   "id": "e6f5e51b",
   "metadata": {
    "execution": {
     "iopub.execute_input": "2022-02-24T07:13:39.864349Z",
     "iopub.status.busy": "2022-02-24T07:13:39.863682Z",
     "iopub.status.idle": "2022-02-24T07:13:39.869999Z",
     "shell.execute_reply": "2022-02-24T07:13:39.870507Z",
     "shell.execute_reply.started": "2022-02-24T06:59:57.776952Z"
    },
    "papermill": {
     "duration": 0.027446,
     "end_time": "2022-02-24T07:13:39.870678",
     "exception": false,
     "start_time": "2022-02-24T07:13:39.843232",
     "status": "completed"
    },
    "tags": []
   },
   "outputs": [
    {
     "name": "stdout",
     "output_type": "stream",
     "text": [
      "positive comment\n"
     ]
    }
   ],
   "source": [
    "temp = np.array([\"best movie ever\"])\n",
    "temp = vectorizer.transform(temp)\n",
    "\n",
    "if clf.predict(temp)[0]:\n",
    "    print('positive comment')\n",
    "else:\n",
    "    print('negeative comment')"
   ]
  },
  {
   "cell_type": "code",
   "execution_count": 16,
   "id": "847cd5d5",
   "metadata": {
    "execution": {
     "iopub.execute_input": "2022-02-24T07:13:39.908097Z",
     "iopub.status.busy": "2022-02-24T07:13:39.905199Z",
     "iopub.status.idle": "2022-02-24T07:13:39.915061Z",
     "shell.execute_reply": "2022-02-24T07:13:39.915897Z",
     "shell.execute_reply.started": "2022-02-24T06:59:57.791136Z"
    },
    "papermill": {
     "duration": 0.02958,
     "end_time": "2022-02-24T07:13:39.916179",
     "exception": false,
     "start_time": "2022-02-24T07:13:39.886599",
     "status": "completed"
    },
    "tags": []
   },
   "outputs": [
    {
     "name": "stdout",
     "output_type": "stream",
     "text": [
      "negeative comment\n"
     ]
    }
   ],
   "source": [
    "temp = np.array([\"worst movie ever\"])\n",
    "temp = vectorizer.transform(temp)\n",
    "\n",
    "if clf.predict(temp)[0]:\n",
    "    print('positive comment')\n",
    "else:\n",
    "    print('negeative comment')"
   ]
  },
  {
   "cell_type": "code",
   "execution_count": 17,
   "id": "a4898200",
   "metadata": {
    "execution": {
     "iopub.execute_input": "2022-02-24T07:13:39.952583Z",
     "iopub.status.busy": "2022-02-24T07:13:39.952013Z",
     "iopub.status.idle": "2022-02-24T07:13:39.963727Z",
     "shell.execute_reply": "2022-02-24T07:13:39.964216Z",
     "shell.execute_reply.started": "2022-02-24T06:59:57.804659Z"
    },
    "papermill": {
     "duration": 0.03068,
     "end_time": "2022-02-24T07:13:39.964404",
     "exception": false,
     "start_time": "2022-02-24T07:13:39.933724",
     "status": "completed"
    },
    "tags": []
   },
   "outputs": [],
   "source": [
    "filename = 'nlp_model.pkl'\n",
    "pickle.dump(clf, open(filename, 'wb'))"
   ]
  }
 ],
 "metadata": {
  "kernelspec": {
   "display_name": "Python 3",
   "language": "python",
   "name": "python3"
  },
  "language_info": {
   "codemirror_mode": {
    "name": "ipython",
    "version": 3
   },
   "file_extension": ".py",
   "mimetype": "text/x-python",
   "name": "python",
   "nbconvert_exporter": "python",
   "pygments_lexer": "ipython3",
   "version": "3.7.12"
  },
  "papermill": {
   "default_parameters": {},
   "duration": 247.45698,
   "end_time": "2022-02-24T07:13:43.178755",
   "environment_variables": {},
   "exception": null,
   "input_path": "__notebook__.ipynb",
   "output_path": "__notebook__.ipynb",
   "parameters": {},
   "start_time": "2022-02-24T07:09:35.721775",
   "version": "2.3.3"
  }
 },
 "nbformat": 4,
 "nbformat_minor": 5
}
